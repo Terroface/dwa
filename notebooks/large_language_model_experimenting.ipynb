{
 "cells": [
  {
   "cell_type": "code",
   "execution_count": 6,
   "metadata": {},
   "outputs": [],
   "source": [
    "# resource https://learn.deeplearning.ai/langchain/lesson/2/models,-prompts-and-parsers"
   ]
  },
  {
   "attachments": {},
   "cell_type": "markdown",
   "metadata": {},
   "source": [
    "### Setup"
   ]
  },
  {
   "cell_type": "code",
   "execution_count": 29,
   "metadata": {},
   "outputs": [],
   "source": [
    "# !pip install --upgrade pip\n",
    "# !pip install openai\n",
    "# !pip install --upgrade langchain"
   ]
  },
  {
   "cell_type": "code",
   "execution_count": 30,
   "metadata": {},
   "outputs": [],
   "source": [
    "import os\n",
    "openai_api_key = os.getenv('OPENAI_API_KEY')"
   ]
  },
  {
   "attachments": {},
   "cell_type": "markdown",
   "metadata": {},
   "source": [
    "### Model"
   ]
  },
  {
   "cell_type": "code",
   "execution_count": 31,
   "metadata": {},
   "outputs": [],
   "source": [
    "from langchain.chat_models import ChatOpenAI"
   ]
  },
  {
   "cell_type": "code",
   "execution_count": 32,
   "metadata": {},
   "outputs": [],
   "source": [
    "# To control the randomness and creativity of the generated\n",
    "# text by an LLM, use temperature = 0.0\n",
    "chat = ChatOpenAI(\n",
    "    temperature=0.0,\n",
    "    model_name='gpt-3.5-turbo'\n",
    "    # model_name='GPT-4'\n",
    "    )\n",
    "# IMPORTANT: delete output if you preview it, as it contains the api key"
   ]
  },
  {
   "attachments": {},
   "cell_type": "markdown",
   "metadata": {},
   "source": [
    "### Prompt template (manual format_instructions and no disctionary parsing)"
   ]
  },
  {
   "cell_type": "code",
   "execution_count": 33,
   "metadata": {},
   "outputs": [],
   "source": [
    "from langchain.prompts import ChatPromptTemplate"
   ]
  },
  {
   "cell_type": "code",
   "execution_count": 34,
   "metadata": {},
   "outputs": [],
   "source": [
    "# this 'format_instructions' is for testing; below the format_instructions gets created by among others 'StructuredOutputParser.from_response_schemas'\n",
    "format_instructions = \"\"\"\\\n",
    "\n",
    "Format the output as JSON with the following keys:\n",
    "* is_key_column: is the column likely to be a primary, foreign, natural, or surrogate key column? \\\n",
    "    Value should be \"true\" or \"false\" (enclosed in double quotes). \\\n",
    "    Look for substrings like 'id', 'pk', 'fk', 'key', 'primary', 'foreign', etc. \\\n",
    "* dimension_type: the type of the dimension. \\\n",
    "    The dimension type should be determined by considering: \n",
    "        1. the data_type of the column.\n",
    "        2. the column_name.\n",
    "* measure_1_type: the type of the first measure. \\\n",
    "    This should be created if end users (analysts) might create useful \\\n",
    "        analyses through aggregating the values in this column by a certain \\\n",
    "        aggregation (measure type). \\\n",
    "    If a measure made from this column is not appropriate then this field \\\n",
    "        should be \"null\" (enclosed in double quotes).\n",
    "* measure_2_type: the type of the second measure. \\\n",
    "    Use the same logic as for measure_1_type, but, only if an additional \\\n",
    "        measure would be useful. \\\n",
    "    If a second measure made from this column is not appropriate then this \\\n",
    "        field should be \"null\" (enclosed in double quotes). \\\n",
    "\n",
    "\"\"\""
   ]
  },
  {
   "cell_type": "code",
   "execution_count": 35,
   "metadata": {},
   "outputs": [],
   "source": [
    "schema = \"\"\" {'DIM_ADDRESS': [{'column_name': 'ADDRESS_CITY_NAME', 'data_type': 'TEXT'}, {'column_name': 'ADDRESS_COUNTRY_NAME', 'data_type': 'TEXT'}, {'column_name': 'ADDRESS_AGE', 'data_type': 'NUMBER'}, {'column_name': 'ADDRESS_PK', 'data_type': 'TEXT'}, {'column_name': 'ADDRESS_STATE_NAME', 'data_type': 'TEXT'}], 'DIM_CREDIT_CARD': [{'column_name': 'CREDITCARD_ID', 'data_type': 'NUMBER'}, {'column_name': 'CREDITCARD_PK', 'data_type': 'TEXT'}, {'column_name': 'CREDITCARD_TYPE', 'data_type': 'TEXT'}], 'DIM_CUSTOMER': [{'column_name': 'BUSINESS_ENTITY_ID', 'data_type': 'NUMBER'}, {'column_name': 'CUSTOMER_FULL_NAME', 'data_type': 'TEXT'}, {'column_name': 'CUSTOMER_ID', 'data_type': 'NUMBER'}, {'column_name': 'CUSTOMER_PK', 'data_type': 'TEXT'}, {'column_name': 'CUSTOMER_STORE_BUSINESS_ENTITY_ID', 'data_type': 'NUMBER'}, {'column_name': 'CUSTOMER_STORE_NAME', 'data_type': 'TEXT'}], 'DIM_DATE': [{'column_name': 'DATE_DAY', 'data_type': 'DATE'}, {'column_name': 'DATE_PK', 'data_type': 'TEXT'}, {'column_name': 'DAY_OF_MONTH', 'data_type': 'NUMBER'}, {'column_name': 'DAY_OF_WEEK', 'data_type': 'NUMBER'}, {'column_name': 'DAY_OF_WEEK_NAME', 'data_type': 'TEXT'}, {'column_name': 'DAY_OF_YEAR', 'data_type': 'NUMBER'}, {'column_name': 'NEXT_DATE_DAY', 'data_type': 'DATE'}, {'column_name': 'PRIOR_DATE_DAY', 'data_type': 'DATE'}, {'column_name': 'PRIOR_YEAR_DATE_DAY', 'data_type': 'DATE'}, {'column_name': 'PRIOR_YEAR_OVER_YEAR_DATE_DAY', 'data_type': 'DATE'}], 'DIM_ORDER_STATUS': [{'column_name': 'ORDER_STATUS', 'data_type': 'NUMBER'}, {'column_name': 'ORDER_STATUS_NAME', 'data_type': 'TEXT'}, {'column_name': 'ORDER_STATUS_PK', 'data_type': 'TEXT'}], 'DIM_PRODUCT': [{'column_name': 'PRODUCT_CATEGORY_NAME', 'data_type': 'TEXT'}, {'column_name': 'PRODUCT_CLASS', 'data_type': 'TEXT'}, {'column_name': 'PRODUCT_COLOR', 'data_type': 'TEXT'}, {'column_name': 'PRODUCT_ID', 'data_type': 'NUMBER'}, {'column_name': 'PRODUCT_NAME', 'data_type': 'TEXT'}, {'column_name': 'PRODUCT_NUMBER', 'data_type': 'TEXT'}, {'column_name': 'PRODUCT_PK', 'data_type': 'TEXT'}, {'column_name': 'PRODUCT_SUBCATEGORY_NAME', 'data_type': 'TEXT'}], 'FCT_SALES': [{'column_name': 'CREDITCARD_FK', 'data_type': 'TEXT'}, {'column_name': 'CUSTOMER_FK', 'data_type': 'TEXT'}, {'column_name': 'ORDER_DATE_FK', 'data_type': 'TEXT'}, {'column_name': 'ORDER_STATUS_FK', 'data_type': 'TEXT'}, {'column_name': 'PRODUCT_FK', 'data_type': 'TEXT'}, {'column_name': 'SALE_ORDER_DETAIL_ID', 'data_type': 'NUMBER'}, {'column_name': 'SALE_ORDER_ID', 'data_type': 'NUMBER'}, {'column_name': 'SALE_ORDER_QUANTITY', 'data_type': 'NUMBER'}, {'column_name': 'SALE_PK', 'data_type': 'TEXT'}, {'column_name': 'SALE_REVENUE', 'data_type': 'NUMBER'}, {'column_name': 'SALE_UNIT_PRICE', 'data_type': 'NUMBER'}, {'column_name': 'SHIP_ADDRESS_FK', 'data_type': 'TEXT'}]} \"\"\"\n",
    "\n",
    "table_name = \"DIM_ADDRESS\"\n",
    "# column_name = \"ADDRESS_CITY_NAME\"\n",
    "column_name = \"ADDRESS_ID\"\n",
    "# column_name = \"ADDRESS_AGE\"\n",
    "\n",
    "# table_name = \"FCT_SALES\"\n",
    "# column_name = \"SALE_ORDER_QUANTITY\"\n",
    "# column_name = \"CREDITCARD_FK\"\n",
    "\n",
    "# table_name = \"DIM_CUSTOMER\"\n",
    "# column_name = \"CUSTOMER_PK\"\n",
    "\n",
    "cube_objects_from_schema_template = \"\"\"\\\n",
    "The dictionary below details a snowflake schema for a list of tables and their columns. \\\n",
    "Act as a developer creating a semantic layer in cube.js on top of a data warehouse. \\\n",
    "I want you to, for the colum_name '{column_name}' of table '{table_name}' (the key of \\\n",
    "the dictionary) decide:\n",
    "    2. which dimension type this column should create\n",
    "    3. whether it would be useful to create up to two measures from this column.\n",
    "\n",
    "Follow these rules:\n",
    "    1. you have choose a dimension type for every column\n",
    "    2. you can choose between 0 and 2 measure types for every column\n",
    "    3. the dimension type should be one of the following:\n",
    "        * string\n",
    "        * number\n",
    "        * time\n",
    "        * boolean\n",
    "    4. the measure type should be one of the following (listed in order of preference):\n",
    "        * sum\n",
    "        * avg\n",
    "        * count_distinct\n",
    "        * max\n",
    "        * min\n",
    "    5. you should aim to make measures whenever appropriate and preferrably 2.\n",
    "\n",
    "schema: {schema}\n",
    "\n",
    "{format_instructions}\n",
    "```\n",
    "\"\"\""
   ]
  },
  {
   "cell_type": "code",
   "execution_count": 36,
   "metadata": {},
   "outputs": [],
   "source": [
    "prompt = ChatPromptTemplate.from_template(template=cube_objects_from_schema_template)\n",
    "# print(prompt)"
   ]
  },
  {
   "cell_type": "code",
   "execution_count": 37,
   "metadata": {},
   "outputs": [],
   "source": [
    "messages = prompt.format_messages(\n",
    "    table_name=table_name,\n",
    "    column_name=column_name,\n",
    "    schema=schema, \n",
    "    format_instructions=format_instructions,\n",
    ")\n",
    "# print(messages[0].content)"
   ]
  },
  {
   "cell_type": "code",
   "execution_count": 38,
   "metadata": {},
   "outputs": [],
   "source": [
    "# response = chat(messages) # commented out to save on credits\n",
    "# print(response.content)"
   ]
  },
  {
   "attachments": {},
   "cell_type": "markdown",
   "metadata": {},
   "source": [
    "### Modular response schema"
   ]
  },
  {
   "cell_type": "code",
   "execution_count": 39,
   "metadata": {},
   "outputs": [],
   "source": [
    "from langchain.output_parsers import ResponseSchema\n",
    "from langchain.output_parsers import StructuredOutputParser"
   ]
  },
  {
   "cell_type": "code",
   "execution_count": 40,
   "metadata": {},
   "outputs": [],
   "source": [
    "is_key_column_schema = ResponseSchema(\n",
    "    name='is_key_column',\n",
    "    description=\"\"\"is the column likely to be a primary, foreign, natural, or surrogate key column? \\\n",
    "        Value should be \"true\" or \"false\" (enclosed in double quotes). \\\n",
    "        Look for substrings like 'id', 'pk', 'fk', 'key', 'primary', 'foreign', etc.\"\"\"\n",
    ")\n",
    "\n",
    "dimension_type_schema = ResponseSchema(\n",
    "    name='dimension_type',\n",
    "    description=\"\"\"the type of the dimension. \\\n",
    "        The dimension type should be determined by considering: \n",
    "            1. the data_type of the column.\n",
    "            2. the column_name.\"\"\"\n",
    ")\n",
    "\n",
    "measure_1_type_schema = ResponseSchema(\n",
    "    name='measure_1_type',\n",
    "    description=\"\"\"the type of the first measure. \\\n",
    "        This should be created if end users (analysts) might create useful \\\n",
    "        analyses through aggregating the values in this column by a certain \\\n",
    "        aggregation (measure type). \\\n",
    "        If a measure made from this column is not appropriate then this field \\\n",
    "        should be \"null\" (enclosed in double quotes).\"\"\"\n",
    ")\n",
    "\n",
    "measure_2_type_schema = ResponseSchema(\n",
    "    name='measure_2_type',\n",
    "    description=\"\"\"the type of the second measure. \\\n",
    "        Use the same logic as for measure_1_type, but, only if an additional \\\n",
    "        measure would be useful. \\\n",
    "        If a second measure made from this column is not appropriate then this \\\n",
    "        field should be \"null\" (enclosed in double quotes).\"\"\"\n",
    ")\n",
    "\n",
    "response_schemas = [\n",
    "    is_key_column_schema,\n",
    "    dimension_type_schema,\n",
    "    measure_1_type_schema,\n",
    "    measure_2_type_schema\n",
    "]"
   ]
  },
  {
   "cell_type": "code",
   "execution_count": 41,
   "metadata": {},
   "outputs": [],
   "source": [
    "output_parser = StructuredOutputParser.from_response_schemas(response_schemas)\n",
    "format_instructions = output_parser.get_format_instructions()\n",
    "# print(format_instructions)"
   ]
  },
  {
   "cell_type": "code",
   "execution_count": 42,
   "metadata": {},
   "outputs": [],
   "source": [
    "messages = prompt.format_messages(\n",
    "    table_name=table_name,\n",
    "    column_name=column_name,\n",
    "    schema=schema, \n",
    "    format_instructions=format_instructions,\n",
    ")\n",
    "# print(messages[0].content)"
   ]
  },
  {
   "cell_type": "code",
   "execution_count": 43,
   "metadata": {},
   "outputs": [
    {
     "name": "stdout",
     "output_type": "stream",
     "text": [
      "{\n",
      "\t\"is_key_column\": \"true\",\n",
      "\t\"dimension_type\": \"string\",\n",
      "\t\"measure_1_type\": \"count_distinct\",\n",
      "\t\"measure_2_type\": \"null\"\n",
      "}\n"
     ]
    }
   ],
   "source": [
    "response = chat(messages)\n",
    "print(response.content)"
   ]
  },
  {
   "attachments": {},
   "cell_type": "markdown",
   "metadata": {},
   "source": [
    "### Parse the LLM output string into a Python dictionary"
   ]
  },
  {
   "cell_type": "code",
   "execution_count": 44,
   "metadata": {},
   "outputs": [
    {
     "name": "stdout",
     "output_type": "stream",
     "text": [
      "{'is_key_column': 'true', 'dimension_type': 'string', 'measure_1_type': 'count_distinct', 'measure_2_type': 'null'}\n"
     ]
    },
    {
     "data": {
      "text/plain": [
       "'string'"
      ]
     },
     "execution_count": 44,
     "metadata": {},
     "output_type": "execute_result"
    }
   ],
   "source": [
    "output_dict = output_parser.parse(response.content)\n",
    "print(output_dict)\n",
    "output_dict['dimension_type']"
   ]
  }
 ],
 "metadata": {
  "kernelspec": {
   "display_name": ".venv",
   "language": "python",
   "name": "python3"
  },
  "language_info": {
   "codemirror_mode": {
    "name": "ipython",
    "version": 3
   },
   "file_extension": ".py",
   "mimetype": "text/x-python",
   "name": "python",
   "nbconvert_exporter": "python",
   "pygments_lexer": "ipython3",
   "version": "3.11.3"
  },
  "orig_nbformat": 4
 },
 "nbformat": 4,
 "nbformat_minor": 2
}
