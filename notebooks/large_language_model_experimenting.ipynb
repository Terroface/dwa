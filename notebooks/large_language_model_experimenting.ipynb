{
 "cells": [
  {
   "cell_type": "code",
   "execution_count": 6,
   "metadata": {},
   "outputs": [],
   "source": [
    "# resource https://learn.deeplearning.ai/langchain/lesson/2/models,-prompts-and-parsers"
   ]
  },
  {
   "cell_type": "code",
   "execution_count": 1,
   "metadata": {},
   "outputs": [],
   "source": [
    "# !pip install --upgrade pip\n",
    "# !pip install openai\n",
    "# !pip install --upgrade langchain"
   ]
  },
  {
   "cell_type": "code",
   "execution_count": 2,
   "metadata": {},
   "outputs": [],
   "source": [
    "from langchain.chat_models import ChatOpenAI"
   ]
  },
  {
   "cell_type": "code",
   "execution_count": 5,
   "metadata": {},
   "outputs": [],
   "source": [
    "import os\n",
    "openai_api_key = os.getenv('OPENAI_API_KEY')"
   ]
  },
  {
   "cell_type": "code",
   "execution_count": 6,
   "metadata": {},
   "outputs": [],
   "source": [
    "# To control the randomness and creativity of the generated\n",
    "# text by an LLM, use temperature = 0.0\n",
    "chat = ChatOpenAI(temperature=0.0)\n",
    "# IMPORTANT: delete output if you preview it, as it contains the api key"
   ]
  },
  {
   "attachments": {},
   "cell_type": "markdown",
   "metadata": {},
   "source": [
    "### Prompt template"
   ]
  },
  {
   "cell_type": "code",
   "execution_count": 39,
   "metadata": {},
   "outputs": [],
   "source": [
    "from langchain.prompts import ChatPromptTemplate\n",
    "\n",
    "schema = \"\"\" {'DIM_ADDRESS': [{'column_name': 'ADDRESS_CITY_NAME', 'data_type': 'TEXT'}, {'column_name': 'ADDRESS_COUNTRY_NAME', 'data_type': 'TEXT'}, {'column_name': 'ADDRESS_ID', 'data_type': 'NUMBER'}, {'column_name': 'ADDRESS_PK', 'data_type': 'TEXT'}, {'column_name': 'ADDRESS_STATE_NAME', 'data_type': 'TEXT'}], 'DIM_CREDIT_CARD': [{'column_name': 'CREDITCARD_ID', 'data_type': 'NUMBER'}, {'column_name': 'CREDITCARD_PK', 'data_type': 'TEXT'}, {'column_name': 'CREDITCARD_TYPE', 'data_type': 'TEXT'}], 'DIM_CUSTOMER': [{'column_name': 'BUSINESS_ENTITY_ID', 'data_type': 'NUMBER'}, {'column_name': 'CUSTOMER_FULL_NAME', 'data_type': 'TEXT'}, {'column_name': 'CUSTOMER_ID', 'data_type': 'NUMBER'}, {'column_name': 'CUSTOMER_PK', 'data_type': 'TEXT'}, {'column_name': 'CUSTOMER_STORE_BUSINESS_ENTITY_ID', 'data_type': 'NUMBER'}, {'column_name': 'CUSTOMER_STORE_NAME', 'data_type': 'TEXT'}], 'DIM_DATE': [{'column_name': 'DATE_DAY', 'data_type': 'DATE'}, {'column_name': 'DATE_PK', 'data_type': 'TEXT'}, {'column_name': 'DAY_OF_MONTH', 'data_type': 'NUMBER'}, {'column_name': 'DAY_OF_WEEK', 'data_type': 'NUMBER'}, {'column_name': 'DAY_OF_WEEK_NAME', 'data_type': 'TEXT'}, {'column_name': 'DAY_OF_YEAR', 'data_type': 'NUMBER'}, {'column_name': 'NEXT_DATE_DAY', 'data_type': 'DATE'}, {'column_name': 'PRIOR_DATE_DAY', 'data_type': 'DATE'}, {'column_name': 'PRIOR_YEAR_DATE_DAY', 'data_type': 'DATE'}, {'column_name': 'PRIOR_YEAR_OVER_YEAR_DATE_DAY', 'data_type': 'DATE'}], 'DIM_ORDER_STATUS': [{'column_name': 'ORDER_STATUS', 'data_type': 'NUMBER'}, {'column_name': 'ORDER_STATUS_NAME', 'data_type': 'TEXT'}, {'column_name': 'ORDER_STATUS_PK', 'data_type': 'TEXT'}], 'DIM_PRODUCT': [{'column_name': 'PRODUCT_CATEGORY_NAME', 'data_type': 'TEXT'}, {'column_name': 'PRODUCT_CLASS', 'data_type': 'TEXT'}, {'column_name': 'PRODUCT_COLOR', 'data_type': 'TEXT'}, {'column_name': 'PRODUCT_ID', 'data_type': 'NUMBER'}, {'column_name': 'PRODUCT_NAME', 'data_type': 'TEXT'}, {'column_name': 'PRODUCT_NUMBER', 'data_type': 'TEXT'}, {'column_name': 'PRODUCT_PK', 'data_type': 'TEXT'}, {'column_name': 'PRODUCT_SUBCATEGORY_NAME', 'data_type': 'TEXT'}], 'FCT_SALES': [{'column_name': 'CREDITCARD_FK', 'data_type': 'TEXT'}, {'column_name': 'CUSTOMER_FK', 'data_type': 'TEXT'}, {'column_name': 'ORDER_DATE_FK', 'data_type': 'TEXT'}, {'column_name': 'ORDER_STATUS_FK', 'data_type': 'TEXT'}, {'column_name': 'PRODUCT_FK', 'data_type': 'TEXT'}, {'column_name': 'SALE_ORDER_DETAIL_ID', 'data_type': 'NUMBER'}, {'column_name': 'SALE_ORDER_ID', 'data_type': 'NUMBER'}, {'column_name': 'SALE_ORDER_QUANTITY', 'data_type': 'NUMBER'}, {'column_name': 'SALE_PK', 'data_type': 'TEXT'}, {'column_name': 'SALE_REVENUE', 'data_type': 'NUMBER'}, {'column_name': 'SALE_UNIT_PRICE', 'data_type': 'NUMBER'}, {'column_name': 'SHIP_ADDRESS_FK', 'data_type': 'TEXT'}]} \"\"\"\n",
    "\n",
    "table_name = \"DIM_ADDRESS\"\n",
    "# column_name = \"ADDRESS_CITY_NAME\"\n",
    "column_name = \"ADDRESS_ID\"\n",
    "\n",
    "format_instructions = \"\"\"\\\n",
    "\n",
    "Format the output as JSON with the following keys:\n",
    "* dimension_name: the name of the dimension. If a dimension made from this column is not appropriate then this field should be \"null\" (enclosed in double quotes).\n",
    "* dimension_type: the type of the dimension. If the column is not a dimension, then this field should be \"null\" (enclosed in double quotes)\n",
    "* measure_1_name: the name of the first measure. If a measure made from this column is not appropriate then this field should be \"null\" (enclosed in double quotes).\n",
    "* measure_1_type: the type of the first measure. If a measure made from this column is not appropriate then this field should be \"null\" (enclosed in double quotes).\n",
    "* measure_2_name: the name of the second measure. If a second measure made from this column is not appropriate then this field should be \"null\" (enclosed in double quotes).\n",
    "* measure_2_type: the type of the second measure. If a second measure made from this column is not appropriate then this field should be \"null\" (enclosed in double quotes).\n",
    "\n",
    "\"\"\"\n",
    "\n",
    "cube_objects_from_schema_template = \"\"\"\\\n",
    "The dictionary below details a snowflake schema for a list of tables and their columns. \\\n",
    "I want you to, for the table {table_name} (the key of the dictionary) and colum_name: {column_name}, decide whether \\\n",
    "the column is a dimension or a measure (or both). Follow these rules \\\n",
    "    1. you can make between 0 and 2 measures of a column\n",
    "    2. you can make between 0 and 1 dimensions of a column\n",
    "    3. dimension names should match the column name exactly\n",
    "    4. measure names should be the column name with a relevant prefix in lowercase e.g. \"sum_\" or \"avg_\"\n",
    "\n",
    "schema: {schema}\n",
    "\n",
    "{format_instructions}\n",
    "```\n",
    "\"\"\""
   ]
  },
  {
   "attachments": {},
   "cell_type": "markdown",
   "metadata": {},
   "source": [
    "backup:\n",
    "\n",
    "prompt\n",
    "\n",
    "The dictionary below details a snowflake schema for a list of tables and their columns. \\\n",
    "I want you to, for each column, decide whether: \\\n",
    "    1. The column is a dimension or a measure (or both). Follow these rules \\\n",
    "        A: you can make as many measures of a column as you deem appropriate \\\n",
    "        B: you can make at most one domension of a column \\\n",
    "        C: you need to determine the type of the dimension or measure \\\n",
    "    3. The column is a primary key or a foreign key \\\n",
    "\n",
    "definitions\n",
    "\n",
    "table_name: the name of the table\n",
    "\n",
    "column_name: the name of the column\n",
    "\n",
    "dimension_name: the name of the dimension. If the column is not a dimension, then this field should be null. A column can correspond to at most one dimension.\n",
    "\n",
    "dimension_type: the type of the dimension. If the column is not a dimension, then this field should be null\n",
    "\n",
    "primary key: whether the column underlying a dimension is the primary key of the table. There can only be one per table\n",
    "\n",
    "measure_name: the name of the measure. A column can correspond to multiple measures\n",
    "\n",
    "measure_type: the type of the measure\n",
    "\n",
    "dictionary\n",
    "\n",
    "{'table_name': [ // the key is a string; the name of the table. The value is a list of dictionaries; each dictionary represents a column of the table\n",
    "    { 'column_name': [ // the key is a string; the name of the column. The value is a list of dictionaries; each dictionary represents either the dimension or list of measures of the column\n",
    "        { 'dimensions: [ // the value is a list of dictionaries; each dictionary represents a dimension of the column. But there should at most be one dictionary here, because a column can correspond to at most one dimension. If the column is not a dimension, then this list shpuld be empty\n",
    "            {\n",
    "                'dimension_name': // string; the name of the dimension\n",
    "                ,'dimension_type': // string; the type of the dimension\n",
    "                ,'primary_key': // boolean; whether the column underlying this dimension is the primary key. Answer True if yes, False if not or unknown. There can only be one primary key per table.\n",
    "            }\n",
    "        ] }\n",
    "        ,{ 'measures': [ // the value is a list of dictionaries; each dictionary represents a measure of the column. If the column is not a measure, then this list should be empty\n",
    "            {\n",
    "                'measure_name': // string; the name of the measure\n",
    "                ,'measure_type': // string; the type of the measure\n",
    "            }\n",
    "            ,{\n",
    "                <more measures of the column>\n",
    "            }\n",
    "        ] }\n",
    "    ] }\n",
    "}"
   ]
  },
  {
   "cell_type": "code",
   "execution_count": 40,
   "metadata": {},
   "outputs": [
    {
     "data": {
      "text/plain": [
       "ChatPromptTemplate(input_variables=['column_name', 'table_name', 'format_instructions', 'schema'], output_parser=None, partial_variables={}, messages=[HumanMessagePromptTemplate(prompt=PromptTemplate(input_variables=['column_name', 'format_instructions', 'schema', 'table_name'], output_parser=None, partial_variables={}, template='The dictionary below details a snowflake schema for a list of tables and their columns. I want you to, for the table {table_name} (the key of the dictionary) and colum_name: {column_name}, decide whether the column is a dimension or a measure (or both). Follow these rules     1. you can make between 0 and 2 measures of a column\\n    2. you can make between 0 and 1 dimensions of a column\\n    3. dimension names should match the column name exactly\\n    4. measure names should be the column name with a relevant prefix in lowercase e.g. \"sum_\" or \"avg_\"\\n\\nschema: {schema}\\n\\n{format_instructions}\\n```\\n', template_format='f-string', validate_template=True), additional_kwargs={})])"
      ]
     },
     "execution_count": 40,
     "metadata": {},
     "output_type": "execute_result"
    }
   ],
   "source": [
    "prompt = ChatPromptTemplate.from_template(template=cube_objects_from_schema_template)\n",
    "prompt"
   ]
  },
  {
   "cell_type": "code",
   "execution_count": 41,
   "metadata": {},
   "outputs": [
    {
     "name": "stdout",
     "output_type": "stream",
     "text": [
      "The dictionary below details a snowflake schema for a list of tables and their columns. I want you to, for the table DIM_ADDRESS (the key of the dictionary) and colum_name: ADDRESS_ID, decide whether the column is a dimension or a measure (or both). Follow these rules     1. you can make between 0 and 2 measures of a column\n",
      "    2. you can make between 0 and 1 dimensions of a column\n",
      "    3. dimension names should match the column name exactly\n",
      "    4. measure names should be the column name with a relevant prefix in lowercase e.g. \"sum_\" or \"avg_\"\n",
      "\n",
      "schema:  {'DIM_ADDRESS': [{'column_name': 'ADDRESS_CITY_NAME', 'data_type': 'TEXT'}, {'column_name': 'ADDRESS_COUNTRY_NAME', 'data_type': 'TEXT'}, {'column_name': 'ADDRESS_ID', 'data_type': 'NUMBER'}, {'column_name': 'ADDRESS_PK', 'data_type': 'TEXT'}, {'column_name': 'ADDRESS_STATE_NAME', 'data_type': 'TEXT'}], 'DIM_CREDIT_CARD': [{'column_name': 'CREDITCARD_ID', 'data_type': 'NUMBER'}, {'column_name': 'CREDITCARD_PK', 'data_type': 'TEXT'}, {'column_name': 'CREDITCARD_TYPE', 'data_type': 'TEXT'}], 'DIM_CUSTOMER': [{'column_name': 'BUSINESS_ENTITY_ID', 'data_type': 'NUMBER'}, {'column_name': 'CUSTOMER_FULL_NAME', 'data_type': 'TEXT'}, {'column_name': 'CUSTOMER_ID', 'data_type': 'NUMBER'}, {'column_name': 'CUSTOMER_PK', 'data_type': 'TEXT'}, {'column_name': 'CUSTOMER_STORE_BUSINESS_ENTITY_ID', 'data_type': 'NUMBER'}, {'column_name': 'CUSTOMER_STORE_NAME', 'data_type': 'TEXT'}], 'DIM_DATE': [{'column_name': 'DATE_DAY', 'data_type': 'DATE'}, {'column_name': 'DATE_PK', 'data_type': 'TEXT'}, {'column_name': 'DAY_OF_MONTH', 'data_type': 'NUMBER'}, {'column_name': 'DAY_OF_WEEK', 'data_type': 'NUMBER'}, {'column_name': 'DAY_OF_WEEK_NAME', 'data_type': 'TEXT'}, {'column_name': 'DAY_OF_YEAR', 'data_type': 'NUMBER'}, {'column_name': 'NEXT_DATE_DAY', 'data_type': 'DATE'}, {'column_name': 'PRIOR_DATE_DAY', 'data_type': 'DATE'}, {'column_name': 'PRIOR_YEAR_DATE_DAY', 'data_type': 'DATE'}, {'column_name': 'PRIOR_YEAR_OVER_YEAR_DATE_DAY', 'data_type': 'DATE'}], 'DIM_ORDER_STATUS': [{'column_name': 'ORDER_STATUS', 'data_type': 'NUMBER'}, {'column_name': 'ORDER_STATUS_NAME', 'data_type': 'TEXT'}, {'column_name': 'ORDER_STATUS_PK', 'data_type': 'TEXT'}], 'DIM_PRODUCT': [{'column_name': 'PRODUCT_CATEGORY_NAME', 'data_type': 'TEXT'}, {'column_name': 'PRODUCT_CLASS', 'data_type': 'TEXT'}, {'column_name': 'PRODUCT_COLOR', 'data_type': 'TEXT'}, {'column_name': 'PRODUCT_ID', 'data_type': 'NUMBER'}, {'column_name': 'PRODUCT_NAME', 'data_type': 'TEXT'}, {'column_name': 'PRODUCT_NUMBER', 'data_type': 'TEXT'}, {'column_name': 'PRODUCT_PK', 'data_type': 'TEXT'}, {'column_name': 'PRODUCT_SUBCATEGORY_NAME', 'data_type': 'TEXT'}], 'FCT_SALES': [{'column_name': 'CREDITCARD_FK', 'data_type': 'TEXT'}, {'column_name': 'CUSTOMER_FK', 'data_type': 'TEXT'}, {'column_name': 'ORDER_DATE_FK', 'data_type': 'TEXT'}, {'column_name': 'ORDER_STATUS_FK', 'data_type': 'TEXT'}, {'column_name': 'PRODUCT_FK', 'data_type': 'TEXT'}, {'column_name': 'SALE_ORDER_DETAIL_ID', 'data_type': 'NUMBER'}, {'column_name': 'SALE_ORDER_ID', 'data_type': 'NUMBER'}, {'column_name': 'SALE_ORDER_QUANTITY', 'data_type': 'NUMBER'}, {'column_name': 'SALE_PK', 'data_type': 'TEXT'}, {'column_name': 'SALE_REVENUE', 'data_type': 'NUMBER'}, {'column_name': 'SALE_UNIT_PRICE', 'data_type': 'NUMBER'}, {'column_name': 'SHIP_ADDRESS_FK', 'data_type': 'TEXT'}]} \n",
      "\n",
      "\n",
      "Format the output as JSON with the following keys:\n",
      "* dimension_name: the name of the dimension. If a dimension made from this column is not appropriate then this field should be \"null\" (enclosed in double quotes).\n",
      "* dimension_type: the type of the dimension. If the column is not a dimension, then this field should be \"null\" (enclosed in double quotes)\n",
      "* measure_1_name: the name of the first measure. If a measure made from this column is not appropriate then this field should be \"null\" (enclosed in double quotes).\n",
      "* measure_1_type: the type of the first measure. If a measure made from this column is not appropriate then this field should be \"null\" (enclosed in double quotes).\n",
      "* measure_2_name: the name of the second measure. If a second measure made from this column is not appropriate then this field should be \"null\" (enclosed in double quotes).\n",
      "* measure_2_type: the type of the second measure. If a second measure made from this column is not appropriate then this field should be \"null\" (enclosed in double quotes).\n",
      "\n",
      "\n",
      "```\n",
      "\n"
     ]
    }
   ],
   "source": [
    "messages = prompt.format_messages(\n",
    "    table_name=table_name,\n",
    "    column_name=column_name,\n",
    "    schema=schema, \n",
    "    format_instructions=format_instructions,\n",
    ")\n",
    "print(messages[0].content)"
   ]
  },
  {
   "cell_type": "code",
   "execution_count": 42,
   "metadata": {},
   "outputs": [],
   "source": [
    "response = chat(messages)"
   ]
  },
  {
   "cell_type": "code",
   "execution_count": 43,
   "metadata": {},
   "outputs": [
    {
     "name": "stdout",
     "output_type": "stream",
     "text": [
      "{\n",
      "    \"dimension_name\": \"ADDRESS_ID\",\n",
      "    \"dimension_type\": \"DIMENSION\",\n",
      "    \"measure_1_name\": \"null\",\n",
      "    \"measure_1_type\": \"null\",\n",
      "    \"measure_2_name\": \"null\",\n",
      "    \"measure_2_type\": \"null\"\n",
      "}\n"
     ]
    }
   ],
   "source": [
    "print(response.content)"
   ]
  },
  {
   "attachments": {},
   "cell_type": "markdown",
   "metadata": {},
   "source": [
    "# todos:\n",
    "\n",
    "fix\n",
    "* figure out how to avoid exposing api keys when committing to github\n",
    "* provide list of measure and dimension types as input\n",
    "* specify how to name dimensions and measures\n",
    "\n",
    "change\n",
    "* enable the use of `output_parser`\n",
    "    * make a separate call for each column, so the schema is known?\n",
    "    * how to deal with multiple measures? Limit to 3?\n",
    "\n",
    "add \n",
    " * foreign key: whether the column is a foreign key of the table"
   ]
  },
  {
   "cell_type": "code",
   "execution_count": 12,
   "metadata": {},
   "outputs": [
    {
     "ename": "NameError",
     "evalue": "name 'output_parser' is not defined",
     "output_type": "error",
     "traceback": [
      "\u001b[0;31m---------------------------------------------------------------------------\u001b[0m",
      "\u001b[0;31mNameError\u001b[0m                                 Traceback (most recent call last)",
      "Cell \u001b[0;32mIn[12], line 1\u001b[0m\n\u001b[0;32m----> 1\u001b[0m output_dict \u001b[39m=\u001b[39m output_parser\u001b[39m.\u001b[39mparse(response\u001b[39m.\u001b[39mcontent)\n",
      "\u001b[0;31mNameError\u001b[0m: name 'output_parser' is not defined"
     ]
    }
   ],
   "source": [
    "output_dict = output_parser.parse(response.content)"
   ]
  },
  {
   "cell_type": "code",
   "execution_count": null,
   "metadata": {},
   "outputs": [],
   "source": [
    "output_dict"
   ]
  },
  {
   "cell_type": "code",
   "execution_count": null,
   "metadata": {},
   "outputs": [],
   "source": [
    "type(output_dict)"
   ]
  },
  {
   "cell_type": "code",
   "execution_count": null,
   "metadata": {},
   "outputs": [],
   "source": []
  }
 ],
 "metadata": {
  "kernelspec": {
   "display_name": ".venv",
   "language": "python",
   "name": "python3"
  },
  "language_info": {
   "codemirror_mode": {
    "name": "ipython",
    "version": 3
   },
   "file_extension": ".py",
   "mimetype": "text/x-python",
   "name": "python",
   "nbconvert_exporter": "python",
   "pygments_lexer": "ipython3",
   "version": "3.11.3"
  },
  "orig_nbformat": 4
 },
 "nbformat": 4,
 "nbformat_minor": 2
}
