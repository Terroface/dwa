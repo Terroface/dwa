{
 "cells": [
  {
   "cell_type": "code",
   "execution_count": 6,
   "metadata": {},
   "outputs": [],
   "source": [
    "# resource https://learn.deeplearning.ai/langchain/lesson/2/models,-prompts-and-parsers"
   ]
  },
  {
   "cell_type": "code",
   "execution_count": 1,
   "metadata": {},
   "outputs": [],
   "source": [
    "# !pip install --upgrade pip\n",
    "# !pip install openai\n",
    "# !pip install --upgrade langchain"
   ]
  },
  {
   "cell_type": "code",
   "execution_count": 2,
   "metadata": {},
   "outputs": [],
   "source": [
    "from langchain.chat_models import ChatOpenAI"
   ]
  },
  {
   "cell_type": "code",
   "execution_count": 5,
   "metadata": {},
   "outputs": [],
   "source": [
    "import os\n",
    "openai_api_key = os.getenv('OPENAI_API_KEY')"
   ]
  },
  {
   "cell_type": "code",
   "execution_count": 112,
   "metadata": {},
   "outputs": [],
   "source": [
    "# To control the randomness and creativity of the generated\n",
    "# text by an LLM, use temperature = 0.0\n",
    "chat = ChatOpenAI(\n",
    "    temperature=0.0,\n",
    "    model_name='gpt-3.5-turbo'\n",
    "    # model_name='GPT-4'\n",
    "    )\n",
    "# IMPORTANT: delete output if you preview it, as it contains the api key"
   ]
  },
  {
   "attachments": {},
   "cell_type": "markdown",
   "metadata": {},
   "source": [
    "### Prompt template"
   ]
  },
  {
   "cell_type": "code",
   "execution_count": 262,
   "metadata": {},
   "outputs": [],
   "source": [
    "from langchain.prompts import ChatPromptTemplate\n",
    "\n",
    "schema = \"\"\" {'DIM_ADDRESS': [{'column_name': 'ADDRESS_CITY_NAME', 'data_type': 'TEXT'}, {'column_name': 'ADDRESS_COUNTRY_NAME', 'data_type': 'TEXT'}, {'column_name': 'ADDRESS_AGE', 'data_type': 'NUMBER'}, {'column_name': 'ADDRESS_PK', 'data_type': 'TEXT'}, {'column_name': 'ADDRESS_STATE_NAME', 'data_type': 'TEXT'}], 'DIM_CREDIT_CARD': [{'column_name': 'CREDITCARD_ID', 'data_type': 'NUMBER'}, {'column_name': 'CREDITCARD_PK', 'data_type': 'TEXT'}, {'column_name': 'CREDITCARD_TYPE', 'data_type': 'TEXT'}], 'DIM_CUSTOMER': [{'column_name': 'BUSINESS_ENTITY_ID', 'data_type': 'NUMBER'}, {'column_name': 'CUSTOMER_FULL_NAME', 'data_type': 'TEXT'}, {'column_name': 'CUSTOMER_ID', 'data_type': 'NUMBER'}, {'column_name': 'CUSTOMER_PK', 'data_type': 'TEXT'}, {'column_name': 'CUSTOMER_STORE_BUSINESS_ENTITY_ID', 'data_type': 'NUMBER'}, {'column_name': 'CUSTOMER_STORE_NAME', 'data_type': 'TEXT'}], 'DIM_DATE': [{'column_name': 'DATE_DAY', 'data_type': 'DATE'}, {'column_name': 'DATE_PK', 'data_type': 'TEXT'}, {'column_name': 'DAY_OF_MONTH', 'data_type': 'NUMBER'}, {'column_name': 'DAY_OF_WEEK', 'data_type': 'NUMBER'}, {'column_name': 'DAY_OF_WEEK_NAME', 'data_type': 'TEXT'}, {'column_name': 'DAY_OF_YEAR', 'data_type': 'NUMBER'}, {'column_name': 'NEXT_DATE_DAY', 'data_type': 'DATE'}, {'column_name': 'PRIOR_DATE_DAY', 'data_type': 'DATE'}, {'column_name': 'PRIOR_YEAR_DATE_DAY', 'data_type': 'DATE'}, {'column_name': 'PRIOR_YEAR_OVER_YEAR_DATE_DAY', 'data_type': 'DATE'}], 'DIM_ORDER_STATUS': [{'column_name': 'ORDER_STATUS', 'data_type': 'NUMBER'}, {'column_name': 'ORDER_STATUS_NAME', 'data_type': 'TEXT'}, {'column_name': 'ORDER_STATUS_PK', 'data_type': 'TEXT'}], 'DIM_PRODUCT': [{'column_name': 'PRODUCT_CATEGORY_NAME', 'data_type': 'TEXT'}, {'column_name': 'PRODUCT_CLASS', 'data_type': 'TEXT'}, {'column_name': 'PRODUCT_COLOR', 'data_type': 'TEXT'}, {'column_name': 'PRODUCT_ID', 'data_type': 'NUMBER'}, {'column_name': 'PRODUCT_NAME', 'data_type': 'TEXT'}, {'column_name': 'PRODUCT_NUMBER', 'data_type': 'TEXT'}, {'column_name': 'PRODUCT_PK', 'data_type': 'TEXT'}, {'column_name': 'PRODUCT_SUBCATEGORY_NAME', 'data_type': 'TEXT'}], 'FCT_SALES': [{'column_name': 'CREDITCARD_FK', 'data_type': 'TEXT'}, {'column_name': 'CUSTOMER_FK', 'data_type': 'TEXT'}, {'column_name': 'ORDER_DATE_FK', 'data_type': 'TEXT'}, {'column_name': 'ORDER_STATUS_FK', 'data_type': 'TEXT'}, {'column_name': 'PRODUCT_FK', 'data_type': 'TEXT'}, {'column_name': 'SALE_ORDER_DETAIL_ID', 'data_type': 'NUMBER'}, {'column_name': 'SALE_ORDER_ID', 'data_type': 'NUMBER'}, {'column_name': 'SALE_ORDER_QUANTITY', 'data_type': 'NUMBER'}, {'column_name': 'SALE_PK', 'data_type': 'TEXT'}, {'column_name': 'SALE_REVENUE', 'data_type': 'NUMBER'}, {'column_name': 'SALE_UNIT_PRICE', 'data_type': 'NUMBER'}, {'column_name': 'SHIP_ADDRESS_FK', 'data_type': 'TEXT'}]} \"\"\"\n",
    "\n",
    "table_name = \"DIM_ADDRESS\"\n",
    "# column_name = \"ADDRESS_CITY_NAME\"\n",
    "column_name = \"ADDRESS_ID\"\n",
    "# column_name = \"ADDRESS_AGE\"\n",
    "\n",
    "# table_name = \"FCT_SALES\"\n",
    "# column_name = \"SALE_ORDER_QUANTITY\"\n",
    "# column_name = \"CREDITCARD_FK\"\n",
    "\n",
    "# table_name = \"DIM_CUSTOMER\"\n",
    "# column_name = \"CUSTOMER_PK\"\n",
    "\n",
    "format_instructions = \"\"\"\\\n",
    "\n",
    "Format the output as JSON with the following keys:\n",
    "* is_key_column: is the column likely to be a primary, foreign, natural, or surrogate key column? \\\n",
    "    Value should be \"true\" or \"false\" (enclosed in double quotes). \\\n",
    "    Look for substrings like 'id', 'pk', 'fk', 'key', 'primary', 'foreign', etc. \\\n",
    "* dimension_type: the type of the dimension. \\\n",
    "    The dimension type should be determined by considering: \n",
    "        1. the data_type of the column.\n",
    "        2. the column_name.\n",
    "* measure_1_type: the type of the first measure. \\\n",
    "    This should be created if end users (analysts) might create useful \\\n",
    "        analyses through aggregating the values in this column by a certain \\\n",
    "        aggregation (measure type). \\\n",
    "    If a measure made from this column is not appropriate then this field \\\n",
    "        should be \"null\" (enclosed in double quotes).\n",
    "* measure_2_type: the type of the second measure. \\\n",
    "    Use the same logic as for measure_1_type, but, only if an additional \\\n",
    "        measure would be useful. \\\n",
    "    If a second measure made from this column is not appropriate then this \\\n",
    "        field should be \"null\" (enclosed in double quotes). \\\n",
    "\n",
    "\"\"\"\n",
    "\n",
    "cube_objects_from_schema_template = \"\"\"\\\n",
    "The dictionary below details a snowflake schema for a list of tables and their columns. \\\n",
    "Act as a developer creating a semantic layer in cube.js on top of a data warehouse. \\\n",
    "I want you to, for the colum_name '{column_name}' of table '{table_name}' (the key of \\\n",
    "the dictionary) decide:\n",
    "    2. which dimension type this column should create\n",
    "    3. whether it would be useful to create up to two measures from this column.\n",
    "\n",
    "Follow these rules:\n",
    "    1. you have choose a dimension type for every column\n",
    "    2. you can choose between 0 and 2 measure types for every column\n",
    "    3. the dimension type should be one of the following:\n",
    "        * string\n",
    "        * number\n",
    "        * time\n",
    "        * boolean\n",
    "    4. the measure type should be one of the following (listed in order of preference):\n",
    "        * sum\n",
    "        * avg\n",
    "        * count_distinct\n",
    "        * max\n",
    "        * min\n",
    "    5. you should aim to make measures whenever appropriate and preferrably 2.\n",
    "\n",
    "schema: {schema}\n",
    "\n",
    "{format_instructions}\n",
    "```\n",
    "\"\"\""
   ]
  },
  {
   "cell_type": "code",
   "execution_count": 263,
   "metadata": {},
   "outputs": [
    {
     "data": {
      "text/plain": [
       "ChatPromptTemplate(input_variables=['column_name', 'table_name', 'format_instructions', 'schema'], output_parser=None, partial_variables={}, messages=[HumanMessagePromptTemplate(prompt=PromptTemplate(input_variables=['column_name', 'format_instructions', 'schema', 'table_name'], output_parser=None, partial_variables={}, template=\"The dictionary below details a snowflake schema for a list of tables and their columns. Act as a developer creating a semantic layer in cube.js on top of a data warehouse. I want you to, for the colum_name '{column_name}' of table '{table_name}' (the key of the dictionary) decide:\\n    2. which dimension type this column should create\\n    3. whether it would be useful to create up to two measures from this column.\\n\\nFollow these rules:\\n    1. you have choose a dimension type for every column\\n    2. you can choose between 0 and 2 measure types for every column\\n    3. the dimension type should be one of the following:\\n        * string\\n        * number\\n        * time\\n        * boolean\\n    4. the measure type should be one of the following (listed in order of preference):\\n        * sum\\n        * avg\\n        * count_distinct\\n        * max\\n        * min\\n    5. you should aim to make measures whenever appropriate and preferrably 2.\\n\\nschema: {schema}\\n\\n{format_instructions}\\n```\\n\", template_format='f-string', validate_template=True), additional_kwargs={})])"
      ]
     },
     "execution_count": 263,
     "metadata": {},
     "output_type": "execute_result"
    }
   ],
   "source": [
    "prompt = ChatPromptTemplate.from_template(template=cube_objects_from_schema_template)\n",
    "prompt"
   ]
  },
  {
   "cell_type": "code",
   "execution_count": 264,
   "metadata": {},
   "outputs": [
    {
     "name": "stdout",
     "output_type": "stream",
     "text": [
      "The dictionary below details a snowflake schema for a list of tables and their columns. Act as a developer creating a semantic layer in cube.js on top of a data warehouse. I want you to, for the colum_name 'ADDRESS_ID' of table 'DIM_ADDRESS' (the key of the dictionary) decide:\n",
      "    2. which dimension type this column should create\n",
      "    3. whether it would be useful to create up to two measures from this column.\n",
      "\n",
      "Follow these rules:\n",
      "    1. you have choose a dimension type for every column\n",
      "    2. you can choose between 0 and 2 measure types for every column\n",
      "    3. the dimension type should be one of the following:\n",
      "        * string\n",
      "        * number\n",
      "        * time\n",
      "        * boolean\n",
      "    4. the measure type should be one of the following (listed in order of preference):\n",
      "        * sum\n",
      "        * avg\n",
      "        * count_distinct\n",
      "        * max\n",
      "        * min\n",
      "    5. you should aim to make measures whenever appropriate and preferrably 2.\n",
      "\n",
      "schema:  {'DIM_ADDRESS': [{'column_name': 'ADDRESS_CITY_NAME', 'data_type': 'TEXT'}, {'column_name': 'ADDRESS_COUNTRY_NAME', 'data_type': 'TEXT'}, {'column_name': 'ADDRESS_AGE', 'data_type': 'NUMBER'}, {'column_name': 'ADDRESS_PK', 'data_type': 'TEXT'}, {'column_name': 'ADDRESS_STATE_NAME', 'data_type': 'TEXT'}], 'DIM_CREDIT_CARD': [{'column_name': 'CREDITCARD_ID', 'data_type': 'NUMBER'}, {'column_name': 'CREDITCARD_PK', 'data_type': 'TEXT'}, {'column_name': 'CREDITCARD_TYPE', 'data_type': 'TEXT'}], 'DIM_CUSTOMER': [{'column_name': 'BUSINESS_ENTITY_ID', 'data_type': 'NUMBER'}, {'column_name': 'CUSTOMER_FULL_NAME', 'data_type': 'TEXT'}, {'column_name': 'CUSTOMER_ID', 'data_type': 'NUMBER'}, {'column_name': 'CUSTOMER_PK', 'data_type': 'TEXT'}, {'column_name': 'CUSTOMER_STORE_BUSINESS_ENTITY_ID', 'data_type': 'NUMBER'}, {'column_name': 'CUSTOMER_STORE_NAME', 'data_type': 'TEXT'}], 'DIM_DATE': [{'column_name': 'DATE_DAY', 'data_type': 'DATE'}, {'column_name': 'DATE_PK', 'data_type': 'TEXT'}, {'column_name': 'DAY_OF_MONTH', 'data_type': 'NUMBER'}, {'column_name': 'DAY_OF_WEEK', 'data_type': 'NUMBER'}, {'column_name': 'DAY_OF_WEEK_NAME', 'data_type': 'TEXT'}, {'column_name': 'DAY_OF_YEAR', 'data_type': 'NUMBER'}, {'column_name': 'NEXT_DATE_DAY', 'data_type': 'DATE'}, {'column_name': 'PRIOR_DATE_DAY', 'data_type': 'DATE'}, {'column_name': 'PRIOR_YEAR_DATE_DAY', 'data_type': 'DATE'}, {'column_name': 'PRIOR_YEAR_OVER_YEAR_DATE_DAY', 'data_type': 'DATE'}], 'DIM_ORDER_STATUS': [{'column_name': 'ORDER_STATUS', 'data_type': 'NUMBER'}, {'column_name': 'ORDER_STATUS_NAME', 'data_type': 'TEXT'}, {'column_name': 'ORDER_STATUS_PK', 'data_type': 'TEXT'}], 'DIM_PRODUCT': [{'column_name': 'PRODUCT_CATEGORY_NAME', 'data_type': 'TEXT'}, {'column_name': 'PRODUCT_CLASS', 'data_type': 'TEXT'}, {'column_name': 'PRODUCT_COLOR', 'data_type': 'TEXT'}, {'column_name': 'PRODUCT_ID', 'data_type': 'NUMBER'}, {'column_name': 'PRODUCT_NAME', 'data_type': 'TEXT'}, {'column_name': 'PRODUCT_NUMBER', 'data_type': 'TEXT'}, {'column_name': 'PRODUCT_PK', 'data_type': 'TEXT'}, {'column_name': 'PRODUCT_SUBCATEGORY_NAME', 'data_type': 'TEXT'}], 'FCT_SALES': [{'column_name': 'CREDITCARD_FK', 'data_type': 'TEXT'}, {'column_name': 'CUSTOMER_FK', 'data_type': 'TEXT'}, {'column_name': 'ORDER_DATE_FK', 'data_type': 'TEXT'}, {'column_name': 'ORDER_STATUS_FK', 'data_type': 'TEXT'}, {'column_name': 'PRODUCT_FK', 'data_type': 'TEXT'}, {'column_name': 'SALE_ORDER_DETAIL_ID', 'data_type': 'NUMBER'}, {'column_name': 'SALE_ORDER_ID', 'data_type': 'NUMBER'}, {'column_name': 'SALE_ORDER_QUANTITY', 'data_type': 'NUMBER'}, {'column_name': 'SALE_PK', 'data_type': 'TEXT'}, {'column_name': 'SALE_REVENUE', 'data_type': 'NUMBER'}, {'column_name': 'SALE_UNIT_PRICE', 'data_type': 'NUMBER'}, {'column_name': 'SHIP_ADDRESS_FK', 'data_type': 'TEXT'}]} \n",
      "\n",
      "\n",
      "Format the output as JSON with the following keys:\n",
      "* is_key_column: is the column likely to be a primary, foreign, natural, or surrogate key column?     Value should be \"true\" or \"false\" (enclosed in double quotes).     Look for substrings like 'id', 'pk', 'fk', 'key', 'primary', 'foreign', etc. * dimension_type: the type of the dimension.     The dimension type should be determined by considering: \n",
      "        1. the data_type of the column.\n",
      "        2. the column_name.\n",
      "* measure_1_type: the type of the first measure.     This should be created if end users (analysts) might create useful         analyses through aggregating the values in this column by a certain         aggregation (measure type).     If a measure made from this column is not appropriate then this field         should be \"null\" (enclosed in double quotes).\n",
      "* measure_2_type: the type of the second measure.     Use the same logic as for measure_1_type, but, only if an additional         measure would be useful.     If a second measure made from this column is not appropriate then this         field should be \"null\" (enclosed in double quotes). \n",
      "\n",
      "```\n",
      "\n"
     ]
    }
   ],
   "source": [
    "messages = prompt.format_messages(\n",
    "    table_name=table_name,\n",
    "    column_name=column_name,\n",
    "    schema=schema, \n",
    "    format_instructions=format_instructions,\n",
    ")\n",
    "print(messages[0].content)"
   ]
  },
  {
   "cell_type": "code",
   "execution_count": 265,
   "metadata": {},
   "outputs": [],
   "source": [
    "response = chat(messages)"
   ]
  },
  {
   "cell_type": "code",
   "execution_count": 266,
   "metadata": {},
   "outputs": [
    {
     "name": "stdout",
     "output_type": "stream",
     "text": [
      "{\n",
      "  \"is_key_column\": \"true\",\n",
      "  \"dimension_type\": \"number\",\n",
      "  \"measure_1_type\": \"count_distinct\",\n",
      "  \"measure_2_type\": \"null\"\n",
      "}\n"
     ]
    }
   ],
   "source": [
    "print(response.content)"
   ]
  },
  {
   "attachments": {},
   "cell_type": "markdown",
   "metadata": {},
   "source": [
    "# todos:\n",
    "\n",
    "fix\n",
    "* figure out how to avoid exposing api keys when committing to github\n",
    "* provide list of measure and dimension types as input\n",
    "* specify how to name dimensions and measures\n",
    "\n",
    "change\n",
    "* enable the use of `output_parser`\n",
    "    * make a separate call for each column, so the schema is known?\n",
    "    * how to deal with multiple measures? Limit to 3?\n",
    "\n",
    "add \n",
    " * foreign key: whether the column is a foreign key of the table"
   ]
  },
  {
   "cell_type": "code",
   "execution_count": 12,
   "metadata": {},
   "outputs": [
    {
     "ename": "NameError",
     "evalue": "name 'output_parser' is not defined",
     "output_type": "error",
     "traceback": [
      "\u001b[0;31m---------------------------------------------------------------------------\u001b[0m",
      "\u001b[0;31mNameError\u001b[0m                                 Traceback (most recent call last)",
      "Cell \u001b[0;32mIn[12], line 1\u001b[0m\n\u001b[0;32m----> 1\u001b[0m output_dict \u001b[39m=\u001b[39m output_parser\u001b[39m.\u001b[39mparse(response\u001b[39m.\u001b[39mcontent)\n",
      "\u001b[0;31mNameError\u001b[0m: name 'output_parser' is not defined"
     ]
    }
   ],
   "source": [
    "output_dict = output_parser.parse(response.content)"
   ]
  },
  {
   "cell_type": "code",
   "execution_count": null,
   "metadata": {},
   "outputs": [],
   "source": [
    "output_dict"
   ]
  },
  {
   "cell_type": "code",
   "execution_count": null,
   "metadata": {},
   "outputs": [],
   "source": [
    "type(output_dict)"
   ]
  },
  {
   "cell_type": "code",
   "execution_count": null,
   "metadata": {},
   "outputs": [],
   "source": []
  }
 ],
 "metadata": {
  "kernelspec": {
   "display_name": ".venv",
   "language": "python",
   "name": "python3"
  },
  "language_info": {
   "codemirror_mode": {
    "name": "ipython",
    "version": 3
   },
   "file_extension": ".py",
   "mimetype": "text/x-python",
   "name": "python",
   "nbconvert_exporter": "python",
   "pygments_lexer": "ipython3",
   "version": "3.11.3"
  },
  "orig_nbformat": 4
 },
 "nbformat": 4,
 "nbformat_minor": 2
}
